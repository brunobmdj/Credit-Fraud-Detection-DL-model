{
 "cells": [
  {
   "cell_type": "markdown",
   "id": "c7a4b82f",
   "metadata": {},
   "source": [
    "# Credit Fraud Detection\n",
    "\n",
    "> Summary:\n",
    "\n",
    "    * In this project, we will focus on developing ML/DL model to identify fraudulent transactions from the given dataset.\n",
    "    * The dataset was collected from Kaggle.\n",
    "    * The dataset was observerd to be highly imbalanced.\n",
    "    * We initially proceed with creating ML model with undersampled data, but it always ended up with the model overfitting.\n",
    "    * We later proceeded with the original data to develop DL model with the help of adding weights to the classes according to the imbalance ratio, and we obtained the best performing model with ove 96% accuracy on Test and Train data.\n",
    "    * Finally we shall save our model as a pickle file and reuse it to create an external app using streamlit."
   ]
  },
  {
   "cell_type": "code",
   "execution_count": 1,
   "id": "886f85d3",
   "metadata": {},
   "outputs": [],
   "source": [
    "import pandas as pd\n",
    "from warnings import filterwarnings\n",
    "filterwarnings('ignore')"
   ]
  },
  {
   "cell_type": "code",
   "execution_count": 2,
   "id": "15a8a27a",
   "metadata": {},
   "outputs": [
    {
     "data": {
      "text/html": [
       "<div>\n",
       "<style scoped>\n",
       "    .dataframe tbody tr th:only-of-type {\n",
       "        vertical-align: middle;\n",
       "    }\n",
       "\n",
       "    .dataframe tbody tr th {\n",
       "        vertical-align: top;\n",
       "    }\n",
       "\n",
       "    .dataframe thead th {\n",
       "        text-align: right;\n",
       "    }\n",
       "</style>\n",
       "<table border=\"1\" class=\"dataframe\">\n",
       "  <thead>\n",
       "    <tr style=\"text-align: right;\">\n",
       "      <th></th>\n",
       "      <th>Time</th>\n",
       "      <th>V1</th>\n",
       "      <th>V2</th>\n",
       "      <th>V3</th>\n",
       "      <th>V4</th>\n",
       "      <th>V5</th>\n",
       "      <th>V6</th>\n",
       "      <th>V7</th>\n",
       "      <th>V8</th>\n",
       "      <th>V9</th>\n",
       "      <th>...</th>\n",
       "      <th>V21</th>\n",
       "      <th>V22</th>\n",
       "      <th>V23</th>\n",
       "      <th>V24</th>\n",
       "      <th>V25</th>\n",
       "      <th>V26</th>\n",
       "      <th>V27</th>\n",
       "      <th>V28</th>\n",
       "      <th>Amount</th>\n",
       "      <th>Class</th>\n",
       "    </tr>\n",
       "  </thead>\n",
       "  <tbody>\n",
       "    <tr>\n",
       "      <th>0</th>\n",
       "      <td>0.0</td>\n",
       "      <td>-1.359807</td>\n",
       "      <td>-0.072781</td>\n",
       "      <td>2.536347</td>\n",
       "      <td>1.378155</td>\n",
       "      <td>-0.338321</td>\n",
       "      <td>0.462388</td>\n",
       "      <td>0.239599</td>\n",
       "      <td>0.098698</td>\n",
       "      <td>0.363787</td>\n",
       "      <td>...</td>\n",
       "      <td>-0.018307</td>\n",
       "      <td>0.277838</td>\n",
       "      <td>-0.110474</td>\n",
       "      <td>0.066928</td>\n",
       "      <td>0.128539</td>\n",
       "      <td>-0.189115</td>\n",
       "      <td>0.133558</td>\n",
       "      <td>-0.021053</td>\n",
       "      <td>149.62</td>\n",
       "      <td>0</td>\n",
       "    </tr>\n",
       "    <tr>\n",
       "      <th>1</th>\n",
       "      <td>0.0</td>\n",
       "      <td>1.191857</td>\n",
       "      <td>0.266151</td>\n",
       "      <td>0.166480</td>\n",
       "      <td>0.448154</td>\n",
       "      <td>0.060018</td>\n",
       "      <td>-0.082361</td>\n",
       "      <td>-0.078803</td>\n",
       "      <td>0.085102</td>\n",
       "      <td>-0.255425</td>\n",
       "      <td>...</td>\n",
       "      <td>-0.225775</td>\n",
       "      <td>-0.638672</td>\n",
       "      <td>0.101288</td>\n",
       "      <td>-0.339846</td>\n",
       "      <td>0.167170</td>\n",
       "      <td>0.125895</td>\n",
       "      <td>-0.008983</td>\n",
       "      <td>0.014724</td>\n",
       "      <td>2.69</td>\n",
       "      <td>0</td>\n",
       "    </tr>\n",
       "    <tr>\n",
       "      <th>2</th>\n",
       "      <td>1.0</td>\n",
       "      <td>-1.358354</td>\n",
       "      <td>-1.340163</td>\n",
       "      <td>1.773209</td>\n",
       "      <td>0.379780</td>\n",
       "      <td>-0.503198</td>\n",
       "      <td>1.800499</td>\n",
       "      <td>0.791461</td>\n",
       "      <td>0.247676</td>\n",
       "      <td>-1.514654</td>\n",
       "      <td>...</td>\n",
       "      <td>0.247998</td>\n",
       "      <td>0.771679</td>\n",
       "      <td>0.909412</td>\n",
       "      <td>-0.689281</td>\n",
       "      <td>-0.327642</td>\n",
       "      <td>-0.139097</td>\n",
       "      <td>-0.055353</td>\n",
       "      <td>-0.059752</td>\n",
       "      <td>378.66</td>\n",
       "      <td>0</td>\n",
       "    </tr>\n",
       "    <tr>\n",
       "      <th>3</th>\n",
       "      <td>1.0</td>\n",
       "      <td>-0.966272</td>\n",
       "      <td>-0.185226</td>\n",
       "      <td>1.792993</td>\n",
       "      <td>-0.863291</td>\n",
       "      <td>-0.010309</td>\n",
       "      <td>1.247203</td>\n",
       "      <td>0.237609</td>\n",
       "      <td>0.377436</td>\n",
       "      <td>-1.387024</td>\n",
       "      <td>...</td>\n",
       "      <td>-0.108300</td>\n",
       "      <td>0.005274</td>\n",
       "      <td>-0.190321</td>\n",
       "      <td>-1.175575</td>\n",
       "      <td>0.647376</td>\n",
       "      <td>-0.221929</td>\n",
       "      <td>0.062723</td>\n",
       "      <td>0.061458</td>\n",
       "      <td>123.50</td>\n",
       "      <td>0</td>\n",
       "    </tr>\n",
       "    <tr>\n",
       "      <th>4</th>\n",
       "      <td>2.0</td>\n",
       "      <td>-1.158233</td>\n",
       "      <td>0.877737</td>\n",
       "      <td>1.548718</td>\n",
       "      <td>0.403034</td>\n",
       "      <td>-0.407193</td>\n",
       "      <td>0.095921</td>\n",
       "      <td>0.592941</td>\n",
       "      <td>-0.270533</td>\n",
       "      <td>0.817739</td>\n",
       "      <td>...</td>\n",
       "      <td>-0.009431</td>\n",
       "      <td>0.798278</td>\n",
       "      <td>-0.137458</td>\n",
       "      <td>0.141267</td>\n",
       "      <td>-0.206010</td>\n",
       "      <td>0.502292</td>\n",
       "      <td>0.219422</td>\n",
       "      <td>0.215153</td>\n",
       "      <td>69.99</td>\n",
       "      <td>0</td>\n",
       "    </tr>\n",
       "  </tbody>\n",
       "</table>\n",
       "<p>5 rows × 31 columns</p>\n",
       "</div>"
      ],
      "text/plain": [
       "   Time        V1        V2        V3        V4        V5        V6        V7  \\\n",
       "0   0.0 -1.359807 -0.072781  2.536347  1.378155 -0.338321  0.462388  0.239599   \n",
       "1   0.0  1.191857  0.266151  0.166480  0.448154  0.060018 -0.082361 -0.078803   \n",
       "2   1.0 -1.358354 -1.340163  1.773209  0.379780 -0.503198  1.800499  0.791461   \n",
       "3   1.0 -0.966272 -0.185226  1.792993 -0.863291 -0.010309  1.247203  0.237609   \n",
       "4   2.0 -1.158233  0.877737  1.548718  0.403034 -0.407193  0.095921  0.592941   \n",
       "\n",
       "         V8        V9  ...       V21       V22       V23       V24       V25  \\\n",
       "0  0.098698  0.363787  ... -0.018307  0.277838 -0.110474  0.066928  0.128539   \n",
       "1  0.085102 -0.255425  ... -0.225775 -0.638672  0.101288 -0.339846  0.167170   \n",
       "2  0.247676 -1.514654  ...  0.247998  0.771679  0.909412 -0.689281 -0.327642   \n",
       "3  0.377436 -1.387024  ... -0.108300  0.005274 -0.190321 -1.175575  0.647376   \n",
       "4 -0.270533  0.817739  ... -0.009431  0.798278 -0.137458  0.141267 -0.206010   \n",
       "\n",
       "        V26       V27       V28  Amount  Class  \n",
       "0 -0.189115  0.133558 -0.021053  149.62      0  \n",
       "1  0.125895 -0.008983  0.014724    2.69      0  \n",
       "2 -0.139097 -0.055353 -0.059752  378.66      0  \n",
       "3 -0.221929  0.062723  0.061458  123.50      0  \n",
       "4  0.502292  0.219422  0.215153   69.99      0  \n",
       "\n",
       "[5 rows x 31 columns]"
      ]
     },
     "execution_count": 2,
     "metadata": {},
     "output_type": "execute_result"
    }
   ],
   "source": [
    "# Reading csv\n",
    "df = pd.read_csv('creditcard.csv')\n",
    "df.head()"
   ]
  },
  {
   "cell_type": "code",
   "execution_count": 3,
   "id": "1724209b",
   "metadata": {},
   "outputs": [
    {
     "name": "stdout",
     "output_type": "stream",
     "text": [
      "<class 'pandas.core.frame.DataFrame'>\n",
      "RangeIndex: 284807 entries, 0 to 284806\n",
      "Data columns (total 31 columns):\n",
      " #   Column  Non-Null Count   Dtype  \n",
      "---  ------  --------------   -----  \n",
      " 0   Time    284807 non-null  float64\n",
      " 1   V1      284807 non-null  float64\n",
      " 2   V2      284807 non-null  float64\n",
      " 3   V3      284807 non-null  float64\n",
      " 4   V4      284807 non-null  float64\n",
      " 5   V5      284807 non-null  float64\n",
      " 6   V6      284807 non-null  float64\n",
      " 7   V7      284807 non-null  float64\n",
      " 8   V8      284807 non-null  float64\n",
      " 9   V9      284807 non-null  float64\n",
      " 10  V10     284807 non-null  float64\n",
      " 11  V11     284807 non-null  float64\n",
      " 12  V12     284807 non-null  float64\n",
      " 13  V13     284807 non-null  float64\n",
      " 14  V14     284807 non-null  float64\n",
      " 15  V15     284807 non-null  float64\n",
      " 16  V16     284807 non-null  float64\n",
      " 17  V17     284807 non-null  float64\n",
      " 18  V18     284807 non-null  float64\n",
      " 19  V19     284807 non-null  float64\n",
      " 20  V20     284807 non-null  float64\n",
      " 21  V21     284807 non-null  float64\n",
      " 22  V22     284807 non-null  float64\n",
      " 23  V23     284807 non-null  float64\n",
      " 24  V24     284807 non-null  float64\n",
      " 25  V25     284807 non-null  float64\n",
      " 26  V26     284807 non-null  float64\n",
      " 27  V27     284807 non-null  float64\n",
      " 28  V28     284807 non-null  float64\n",
      " 29  Amount  284807 non-null  float64\n",
      " 30  Class   284807 non-null  int64  \n",
      "dtypes: float64(30), int64(1)\n",
      "memory usage: 67.4 MB\n"
     ]
    }
   ],
   "source": [
    "df.info()"
   ]
  },
  {
   "cell_type": "code",
   "execution_count": 4,
   "id": "2bb3184e",
   "metadata": {},
   "outputs": [
    {
     "data": {
      "text/html": [
       "<div>\n",
       "<style scoped>\n",
       "    .dataframe tbody tr th:only-of-type {\n",
       "        vertical-align: middle;\n",
       "    }\n",
       "\n",
       "    .dataframe tbody tr th {\n",
       "        vertical-align: top;\n",
       "    }\n",
       "\n",
       "    .dataframe thead th {\n",
       "        text-align: right;\n",
       "    }\n",
       "</style>\n",
       "<table border=\"1\" class=\"dataframe\">\n",
       "  <thead>\n",
       "    <tr style=\"text-align: right;\">\n",
       "      <th></th>\n",
       "      <th>Time</th>\n",
       "      <th>V1</th>\n",
       "      <th>V2</th>\n",
       "      <th>V3</th>\n",
       "      <th>V4</th>\n",
       "      <th>V5</th>\n",
       "      <th>V6</th>\n",
       "      <th>V7</th>\n",
       "      <th>V8</th>\n",
       "      <th>V9</th>\n",
       "      <th>...</th>\n",
       "      <th>V21</th>\n",
       "      <th>V22</th>\n",
       "      <th>V23</th>\n",
       "      <th>V24</th>\n",
       "      <th>V25</th>\n",
       "      <th>V26</th>\n",
       "      <th>V27</th>\n",
       "      <th>V28</th>\n",
       "      <th>Amount</th>\n",
       "      <th>Class</th>\n",
       "    </tr>\n",
       "  </thead>\n",
       "  <tbody>\n",
       "    <tr>\n",
       "      <th>count</th>\n",
       "      <td>284807.000000</td>\n",
       "      <td>2.848070e+05</td>\n",
       "      <td>2.848070e+05</td>\n",
       "      <td>2.848070e+05</td>\n",
       "      <td>2.848070e+05</td>\n",
       "      <td>2.848070e+05</td>\n",
       "      <td>2.848070e+05</td>\n",
       "      <td>2.848070e+05</td>\n",
       "      <td>2.848070e+05</td>\n",
       "      <td>2.848070e+05</td>\n",
       "      <td>...</td>\n",
       "      <td>2.848070e+05</td>\n",
       "      <td>2.848070e+05</td>\n",
       "      <td>2.848070e+05</td>\n",
       "      <td>2.848070e+05</td>\n",
       "      <td>2.848070e+05</td>\n",
       "      <td>2.848070e+05</td>\n",
       "      <td>2.848070e+05</td>\n",
       "      <td>2.848070e+05</td>\n",
       "      <td>284807.000000</td>\n",
       "      <td>284807.000000</td>\n",
       "    </tr>\n",
       "    <tr>\n",
       "      <th>mean</th>\n",
       "      <td>94813.859575</td>\n",
       "      <td>1.168375e-15</td>\n",
       "      <td>3.416908e-16</td>\n",
       "      <td>-1.379537e-15</td>\n",
       "      <td>2.074095e-15</td>\n",
       "      <td>9.604066e-16</td>\n",
       "      <td>1.487313e-15</td>\n",
       "      <td>-5.556467e-16</td>\n",
       "      <td>1.213481e-16</td>\n",
       "      <td>-2.406331e-15</td>\n",
       "      <td>...</td>\n",
       "      <td>1.654067e-16</td>\n",
       "      <td>-3.568593e-16</td>\n",
       "      <td>2.578648e-16</td>\n",
       "      <td>4.473266e-15</td>\n",
       "      <td>5.340915e-16</td>\n",
       "      <td>1.683437e-15</td>\n",
       "      <td>-3.660091e-16</td>\n",
       "      <td>-1.227390e-16</td>\n",
       "      <td>88.349619</td>\n",
       "      <td>0.001727</td>\n",
       "    </tr>\n",
       "    <tr>\n",
       "      <th>std</th>\n",
       "      <td>47488.145955</td>\n",
       "      <td>1.958696e+00</td>\n",
       "      <td>1.651309e+00</td>\n",
       "      <td>1.516255e+00</td>\n",
       "      <td>1.415869e+00</td>\n",
       "      <td>1.380247e+00</td>\n",
       "      <td>1.332271e+00</td>\n",
       "      <td>1.237094e+00</td>\n",
       "      <td>1.194353e+00</td>\n",
       "      <td>1.098632e+00</td>\n",
       "      <td>...</td>\n",
       "      <td>7.345240e-01</td>\n",
       "      <td>7.257016e-01</td>\n",
       "      <td>6.244603e-01</td>\n",
       "      <td>6.056471e-01</td>\n",
       "      <td>5.212781e-01</td>\n",
       "      <td>4.822270e-01</td>\n",
       "      <td>4.036325e-01</td>\n",
       "      <td>3.300833e-01</td>\n",
       "      <td>250.120109</td>\n",
       "      <td>0.041527</td>\n",
       "    </tr>\n",
       "    <tr>\n",
       "      <th>min</th>\n",
       "      <td>0.000000</td>\n",
       "      <td>-5.640751e+01</td>\n",
       "      <td>-7.271573e+01</td>\n",
       "      <td>-4.832559e+01</td>\n",
       "      <td>-5.683171e+00</td>\n",
       "      <td>-1.137433e+02</td>\n",
       "      <td>-2.616051e+01</td>\n",
       "      <td>-4.355724e+01</td>\n",
       "      <td>-7.321672e+01</td>\n",
       "      <td>-1.343407e+01</td>\n",
       "      <td>...</td>\n",
       "      <td>-3.483038e+01</td>\n",
       "      <td>-1.093314e+01</td>\n",
       "      <td>-4.480774e+01</td>\n",
       "      <td>-2.836627e+00</td>\n",
       "      <td>-1.029540e+01</td>\n",
       "      <td>-2.604551e+00</td>\n",
       "      <td>-2.256568e+01</td>\n",
       "      <td>-1.543008e+01</td>\n",
       "      <td>0.000000</td>\n",
       "      <td>0.000000</td>\n",
       "    </tr>\n",
       "    <tr>\n",
       "      <th>25%</th>\n",
       "      <td>54201.500000</td>\n",
       "      <td>-9.203734e-01</td>\n",
       "      <td>-5.985499e-01</td>\n",
       "      <td>-8.903648e-01</td>\n",
       "      <td>-8.486401e-01</td>\n",
       "      <td>-6.915971e-01</td>\n",
       "      <td>-7.682956e-01</td>\n",
       "      <td>-5.540759e-01</td>\n",
       "      <td>-2.086297e-01</td>\n",
       "      <td>-6.430976e-01</td>\n",
       "      <td>...</td>\n",
       "      <td>-2.283949e-01</td>\n",
       "      <td>-5.423504e-01</td>\n",
       "      <td>-1.618463e-01</td>\n",
       "      <td>-3.545861e-01</td>\n",
       "      <td>-3.171451e-01</td>\n",
       "      <td>-3.269839e-01</td>\n",
       "      <td>-7.083953e-02</td>\n",
       "      <td>-5.295979e-02</td>\n",
       "      <td>5.600000</td>\n",
       "      <td>0.000000</td>\n",
       "    </tr>\n",
       "    <tr>\n",
       "      <th>50%</th>\n",
       "      <td>84692.000000</td>\n",
       "      <td>1.810880e-02</td>\n",
       "      <td>6.548556e-02</td>\n",
       "      <td>1.798463e-01</td>\n",
       "      <td>-1.984653e-02</td>\n",
       "      <td>-5.433583e-02</td>\n",
       "      <td>-2.741871e-01</td>\n",
       "      <td>4.010308e-02</td>\n",
       "      <td>2.235804e-02</td>\n",
       "      <td>-5.142873e-02</td>\n",
       "      <td>...</td>\n",
       "      <td>-2.945017e-02</td>\n",
       "      <td>6.781943e-03</td>\n",
       "      <td>-1.119293e-02</td>\n",
       "      <td>4.097606e-02</td>\n",
       "      <td>1.659350e-02</td>\n",
       "      <td>-5.213911e-02</td>\n",
       "      <td>1.342146e-03</td>\n",
       "      <td>1.124383e-02</td>\n",
       "      <td>22.000000</td>\n",
       "      <td>0.000000</td>\n",
       "    </tr>\n",
       "    <tr>\n",
       "      <th>75%</th>\n",
       "      <td>139320.500000</td>\n",
       "      <td>1.315642e+00</td>\n",
       "      <td>8.037239e-01</td>\n",
       "      <td>1.027196e+00</td>\n",
       "      <td>7.433413e-01</td>\n",
       "      <td>6.119264e-01</td>\n",
       "      <td>3.985649e-01</td>\n",
       "      <td>5.704361e-01</td>\n",
       "      <td>3.273459e-01</td>\n",
       "      <td>5.971390e-01</td>\n",
       "      <td>...</td>\n",
       "      <td>1.863772e-01</td>\n",
       "      <td>5.285536e-01</td>\n",
       "      <td>1.476421e-01</td>\n",
       "      <td>4.395266e-01</td>\n",
       "      <td>3.507156e-01</td>\n",
       "      <td>2.409522e-01</td>\n",
       "      <td>9.104512e-02</td>\n",
       "      <td>7.827995e-02</td>\n",
       "      <td>77.165000</td>\n",
       "      <td>0.000000</td>\n",
       "    </tr>\n",
       "    <tr>\n",
       "      <th>max</th>\n",
       "      <td>172792.000000</td>\n",
       "      <td>2.454930e+00</td>\n",
       "      <td>2.205773e+01</td>\n",
       "      <td>9.382558e+00</td>\n",
       "      <td>1.687534e+01</td>\n",
       "      <td>3.480167e+01</td>\n",
       "      <td>7.330163e+01</td>\n",
       "      <td>1.205895e+02</td>\n",
       "      <td>2.000721e+01</td>\n",
       "      <td>1.559499e+01</td>\n",
       "      <td>...</td>\n",
       "      <td>2.720284e+01</td>\n",
       "      <td>1.050309e+01</td>\n",
       "      <td>2.252841e+01</td>\n",
       "      <td>4.584549e+00</td>\n",
       "      <td>7.519589e+00</td>\n",
       "      <td>3.517346e+00</td>\n",
       "      <td>3.161220e+01</td>\n",
       "      <td>3.384781e+01</td>\n",
       "      <td>25691.160000</td>\n",
       "      <td>1.000000</td>\n",
       "    </tr>\n",
       "  </tbody>\n",
       "</table>\n",
       "<p>8 rows × 31 columns</p>\n",
       "</div>"
      ],
      "text/plain": [
       "                Time            V1            V2            V3            V4  \\\n",
       "count  284807.000000  2.848070e+05  2.848070e+05  2.848070e+05  2.848070e+05   \n",
       "mean    94813.859575  1.168375e-15  3.416908e-16 -1.379537e-15  2.074095e-15   \n",
       "std     47488.145955  1.958696e+00  1.651309e+00  1.516255e+00  1.415869e+00   \n",
       "min         0.000000 -5.640751e+01 -7.271573e+01 -4.832559e+01 -5.683171e+00   \n",
       "25%     54201.500000 -9.203734e-01 -5.985499e-01 -8.903648e-01 -8.486401e-01   \n",
       "50%     84692.000000  1.810880e-02  6.548556e-02  1.798463e-01 -1.984653e-02   \n",
       "75%    139320.500000  1.315642e+00  8.037239e-01  1.027196e+00  7.433413e-01   \n",
       "max    172792.000000  2.454930e+00  2.205773e+01  9.382558e+00  1.687534e+01   \n",
       "\n",
       "                 V5            V6            V7            V8            V9  \\\n",
       "count  2.848070e+05  2.848070e+05  2.848070e+05  2.848070e+05  2.848070e+05   \n",
       "mean   9.604066e-16  1.487313e-15 -5.556467e-16  1.213481e-16 -2.406331e-15   \n",
       "std    1.380247e+00  1.332271e+00  1.237094e+00  1.194353e+00  1.098632e+00   \n",
       "min   -1.137433e+02 -2.616051e+01 -4.355724e+01 -7.321672e+01 -1.343407e+01   \n",
       "25%   -6.915971e-01 -7.682956e-01 -5.540759e-01 -2.086297e-01 -6.430976e-01   \n",
       "50%   -5.433583e-02 -2.741871e-01  4.010308e-02  2.235804e-02 -5.142873e-02   \n",
       "75%    6.119264e-01  3.985649e-01  5.704361e-01  3.273459e-01  5.971390e-01   \n",
       "max    3.480167e+01  7.330163e+01  1.205895e+02  2.000721e+01  1.559499e+01   \n",
       "\n",
       "       ...           V21           V22           V23           V24  \\\n",
       "count  ...  2.848070e+05  2.848070e+05  2.848070e+05  2.848070e+05   \n",
       "mean   ...  1.654067e-16 -3.568593e-16  2.578648e-16  4.473266e-15   \n",
       "std    ...  7.345240e-01  7.257016e-01  6.244603e-01  6.056471e-01   \n",
       "min    ... -3.483038e+01 -1.093314e+01 -4.480774e+01 -2.836627e+00   \n",
       "25%    ... -2.283949e-01 -5.423504e-01 -1.618463e-01 -3.545861e-01   \n",
       "50%    ... -2.945017e-02  6.781943e-03 -1.119293e-02  4.097606e-02   \n",
       "75%    ...  1.863772e-01  5.285536e-01  1.476421e-01  4.395266e-01   \n",
       "max    ...  2.720284e+01  1.050309e+01  2.252841e+01  4.584549e+00   \n",
       "\n",
       "                V25           V26           V27           V28         Amount  \\\n",
       "count  2.848070e+05  2.848070e+05  2.848070e+05  2.848070e+05  284807.000000   \n",
       "mean   5.340915e-16  1.683437e-15 -3.660091e-16 -1.227390e-16      88.349619   \n",
       "std    5.212781e-01  4.822270e-01  4.036325e-01  3.300833e-01     250.120109   \n",
       "min   -1.029540e+01 -2.604551e+00 -2.256568e+01 -1.543008e+01       0.000000   \n",
       "25%   -3.171451e-01 -3.269839e-01 -7.083953e-02 -5.295979e-02       5.600000   \n",
       "50%    1.659350e-02 -5.213911e-02  1.342146e-03  1.124383e-02      22.000000   \n",
       "75%    3.507156e-01  2.409522e-01  9.104512e-02  7.827995e-02      77.165000   \n",
       "max    7.519589e+00  3.517346e+00  3.161220e+01  3.384781e+01   25691.160000   \n",
       "\n",
       "               Class  \n",
       "count  284807.000000  \n",
       "mean        0.001727  \n",
       "std         0.041527  \n",
       "min         0.000000  \n",
       "25%         0.000000  \n",
       "50%         0.000000  \n",
       "75%         0.000000  \n",
       "max         1.000000  \n",
       "\n",
       "[8 rows x 31 columns]"
      ]
     },
     "execution_count": 4,
     "metadata": {},
     "output_type": "execute_result"
    }
   ],
   "source": [
    "df.describe()"
   ]
  },
  {
   "cell_type": "code",
   "execution_count": 5,
   "id": "613ea2e2",
   "metadata": {},
   "outputs": [
    {
     "data": {
      "text/plain": [
       "(284807, 31)"
      ]
     },
     "execution_count": 5,
     "metadata": {},
     "output_type": "execute_result"
    }
   ],
   "source": [
    "df.shape"
   ]
  },
  {
   "cell_type": "code",
   "execution_count": 6,
   "id": "0dab2b52",
   "metadata": {},
   "outputs": [
    {
     "data": {
      "text/plain": [
       "Time      0\n",
       "V1        0\n",
       "V2        0\n",
       "V3        0\n",
       "V4        0\n",
       "V5        0\n",
       "V6        0\n",
       "V7        0\n",
       "V8        0\n",
       "V9        0\n",
       "V10       0\n",
       "V11       0\n",
       "V12       0\n",
       "V13       0\n",
       "V14       0\n",
       "V15       0\n",
       "V16       0\n",
       "V17       0\n",
       "V18       0\n",
       "V19       0\n",
       "V20       0\n",
       "V21       0\n",
       "V22       0\n",
       "V23       0\n",
       "V24       0\n",
       "V25       0\n",
       "V26       0\n",
       "V27       0\n",
       "V28       0\n",
       "Amount    0\n",
       "Class     0\n",
       "dtype: int64"
      ]
     },
     "execution_count": 6,
     "metadata": {},
     "output_type": "execute_result"
    }
   ],
   "source": [
    "df.isna().sum()"
   ]
  },
  {
   "cell_type": "code",
   "execution_count": 7,
   "id": "eb079841",
   "metadata": {},
   "outputs": [
    {
     "data": {
      "text/plain": [
       "Class\n",
       "0    99.827251\n",
       "1     0.172749\n",
       "Name: proportion, dtype: float64"
      ]
     },
     "execution_count": 7,
     "metadata": {},
     "output_type": "execute_result"
    }
   ],
   "source": [
    "df['Class'].value_counts(normalize=True)*100"
   ]
  },
  {
   "cell_type": "code",
   "execution_count": 8,
   "id": "9a846ea6",
   "metadata": {},
   "outputs": [
    {
     "data": {
      "text/plain": [
       "Class\n",
       "0    284315\n",
       "1       492\n",
       "Name: count, dtype: int64"
      ]
     },
     "execution_count": 8,
     "metadata": {},
     "output_type": "execute_result"
    }
   ],
   "source": [
    "df['Class'].value_counts()"
   ]
  },
  {
   "cell_type": "markdown",
   "id": "7ce58990",
   "metadata": {},
   "source": [
    "* High imbalance in target column.\n",
    "* We skip doing EDA as we cannot perform useful EDA without the presence of proper feature labeling.\n",
    "* We shall perform Under sampling by balancing the Class 0 with Class 1 and proceed to model."
   ]
  },
  {
   "cell_type": "markdown",
   "id": "bd16c013",
   "metadata": {},
   "source": [
    "# Technique 1\n",
    "    # Under Sampling"
   ]
  },
  {
   "cell_type": "code",
   "execution_count": 9,
   "id": "ec5949b1",
   "metadata": {},
   "outputs": [],
   "source": [
    "good = df[df['Class'] == 0]"
   ]
  },
  {
   "cell_type": "code",
   "execution_count": 10,
   "id": "a11f516a",
   "metadata": {},
   "outputs": [],
   "source": [
    "fraud = df[df['Class'] == 1]"
   ]
  },
  {
   "cell_type": "markdown",
   "id": "8f272d31",
   "metadata": {},
   "source": [
    "* Extracting 492 random Class 0 samples"
   ]
  },
  {
   "cell_type": "code",
   "execution_count": 11,
   "id": "4db1da1e",
   "metadata": {},
   "outputs": [],
   "source": [
    "gsamp = good.sample(n = 492)"
   ]
  },
  {
   "cell_type": "markdown",
   "id": "fd34234c",
   "metadata": {},
   "source": [
    "Concatenating Dataframes"
   ]
  },
  {
   "cell_type": "code",
   "execution_count": 12,
   "id": "72034380",
   "metadata": {},
   "outputs": [],
   "source": [
    "ndf = pd.concat([gsamp, fraud], axis = 0)"
   ]
  },
  {
   "cell_type": "code",
   "execution_count": 13,
   "id": "8c952d8a",
   "metadata": {},
   "outputs": [
    {
     "data": {
      "text/plain": [
       "(984, 31)"
      ]
     },
     "execution_count": 13,
     "metadata": {},
     "output_type": "execute_result"
    }
   ],
   "source": [
    "ndf.shape"
   ]
  },
  {
   "cell_type": "code",
   "execution_count": 14,
   "id": "0fab94f1",
   "metadata": {},
   "outputs": [
    {
     "data": {
      "text/plain": [
       "Class\n",
       "0    492\n",
       "1    492\n",
       "Name: count, dtype: int64"
      ]
     },
     "execution_count": 14,
     "metadata": {},
     "output_type": "execute_result"
    }
   ],
   "source": [
    "ndf['Class'].value_counts()"
   ]
  },
  {
   "cell_type": "code",
   "execution_count": 15,
   "id": "6582e30b",
   "metadata": {},
   "outputs": [
    {
     "data": {
      "text/plain": [
       "Time      0\n",
       "V1        0\n",
       "V2        0\n",
       "V3        0\n",
       "V4        0\n",
       "V5        0\n",
       "V6        0\n",
       "V7        0\n",
       "V8        0\n",
       "V9        0\n",
       "V10       0\n",
       "V11       0\n",
       "V12       0\n",
       "V13       0\n",
       "V14       0\n",
       "V15       0\n",
       "V16       0\n",
       "V17       0\n",
       "V18       0\n",
       "V19       0\n",
       "V20       0\n",
       "V21       0\n",
       "V22       0\n",
       "V23       0\n",
       "V24       0\n",
       "V25       0\n",
       "V26       0\n",
       "V27       0\n",
       "V28       0\n",
       "Amount    0\n",
       "Class     0\n",
       "dtype: int64"
      ]
     },
     "execution_count": 15,
     "metadata": {},
     "output_type": "execute_result"
    }
   ],
   "source": [
    "ndf.isna().sum()"
   ]
  },
  {
   "cell_type": "code",
   "execution_count": 16,
   "id": "aef7a264",
   "metadata": {},
   "outputs": [
    {
     "data": {
      "text/html": [
       "<div>\n",
       "<style scoped>\n",
       "    .dataframe tbody tr th:only-of-type {\n",
       "        vertical-align: middle;\n",
       "    }\n",
       "\n",
       "    .dataframe tbody tr th {\n",
       "        vertical-align: top;\n",
       "    }\n",
       "\n",
       "    .dataframe thead th {\n",
       "        text-align: right;\n",
       "    }\n",
       "</style>\n",
       "<table border=\"1\" class=\"dataframe\">\n",
       "  <thead>\n",
       "    <tr style=\"text-align: right;\">\n",
       "      <th></th>\n",
       "      <th>Time</th>\n",
       "      <th>V1</th>\n",
       "      <th>V2</th>\n",
       "      <th>V3</th>\n",
       "      <th>V4</th>\n",
       "      <th>V5</th>\n",
       "      <th>V6</th>\n",
       "      <th>V7</th>\n",
       "      <th>V8</th>\n",
       "      <th>V9</th>\n",
       "      <th>...</th>\n",
       "      <th>V21</th>\n",
       "      <th>V22</th>\n",
       "      <th>V23</th>\n",
       "      <th>V24</th>\n",
       "      <th>V25</th>\n",
       "      <th>V26</th>\n",
       "      <th>V27</th>\n",
       "      <th>V28</th>\n",
       "      <th>Amount</th>\n",
       "      <th>Class</th>\n",
       "    </tr>\n",
       "  </thead>\n",
       "  <tbody>\n",
       "    <tr>\n",
       "      <th>count</th>\n",
       "      <td>984.000000</td>\n",
       "      <td>984.000000</td>\n",
       "      <td>984.000000</td>\n",
       "      <td>984.000000</td>\n",
       "      <td>984.000000</td>\n",
       "      <td>984.000000</td>\n",
       "      <td>984.000000</td>\n",
       "      <td>984.000000</td>\n",
       "      <td>984.000000</td>\n",
       "      <td>984.000000</td>\n",
       "      <td>...</td>\n",
       "      <td>984.000000</td>\n",
       "      <td>984.000000</td>\n",
       "      <td>984.000000</td>\n",
       "      <td>984.000000</td>\n",
       "      <td>984.000000</td>\n",
       "      <td>984.000000</td>\n",
       "      <td>984.000000</td>\n",
       "      <td>984.000000</td>\n",
       "      <td>984.000000</td>\n",
       "      <td>984.000000</td>\n",
       "    </tr>\n",
       "    <tr>\n",
       "      <th>mean</th>\n",
       "      <td>87282.273374</td>\n",
       "      <td>-2.318158</td>\n",
       "      <td>1.838736</td>\n",
       "      <td>-3.524671</td>\n",
       "      <td>2.280420</td>\n",
       "      <td>-1.570961</td>\n",
       "      <td>-0.748190</td>\n",
       "      <td>-2.769700</td>\n",
       "      <td>0.299867</td>\n",
       "      <td>-1.259794</td>\n",
       "      <td>...</td>\n",
       "      <td>0.374793</td>\n",
       "      <td>0.025718</td>\n",
       "      <td>-0.026426</td>\n",
       "      <td>-0.029002</td>\n",
       "      <td>0.031424</td>\n",
       "      <td>0.018643</td>\n",
       "      <td>0.081794</td>\n",
       "      <td>0.035793</td>\n",
       "      <td>99.818628</td>\n",
       "      <td>0.500000</td>\n",
       "    </tr>\n",
       "    <tr>\n",
       "      <th>std</th>\n",
       "      <td>48149.082335</td>\n",
       "      <td>5.538850</td>\n",
       "      <td>3.674185</td>\n",
       "      <td>6.227481</td>\n",
       "      <td>3.178558</td>\n",
       "      <td>4.212848</td>\n",
       "      <td>1.735162</td>\n",
       "      <td>5.862139</td>\n",
       "      <td>4.846831</td>\n",
       "      <td>2.342436</td>\n",
       "      <td>...</td>\n",
       "      <td>2.774194</td>\n",
       "      <td>1.171379</td>\n",
       "      <td>1.165763</td>\n",
       "      <td>0.536223</td>\n",
       "      <td>0.672902</td>\n",
       "      <td>0.482414</td>\n",
       "      <td>1.021987</td>\n",
       "      <td>0.425622</td>\n",
       "      <td>213.358144</td>\n",
       "      <td>0.500254</td>\n",
       "    </tr>\n",
       "    <tr>\n",
       "      <th>min</th>\n",
       "      <td>218.000000</td>\n",
       "      <td>-30.552380</td>\n",
       "      <td>-14.077923</td>\n",
       "      <td>-31.103685</td>\n",
       "      <td>-3.847286</td>\n",
       "      <td>-22.105532</td>\n",
       "      <td>-6.406267</td>\n",
       "      <td>-43.557242</td>\n",
       "      <td>-41.044261</td>\n",
       "      <td>-13.434066</td>\n",
       "      <td>...</td>\n",
       "      <td>-22.797604</td>\n",
       "      <td>-8.887017</td>\n",
       "      <td>-19.254328</td>\n",
       "      <td>-2.028024</td>\n",
       "      <td>-4.781606</td>\n",
       "      <td>-1.152671</td>\n",
       "      <td>-7.263482</td>\n",
       "      <td>-2.125563</td>\n",
       "      <td>0.000000</td>\n",
       "      <td>0.000000</td>\n",
       "    </tr>\n",
       "    <tr>\n",
       "      <th>25%</th>\n",
       "      <td>45200.000000</td>\n",
       "      <td>-2.800824</td>\n",
       "      <td>-0.131103</td>\n",
       "      <td>-5.113334</td>\n",
       "      <td>-0.081218</td>\n",
       "      <td>-1.775001</td>\n",
       "      <td>-1.603779</td>\n",
       "      <td>-3.078361</td>\n",
       "      <td>-0.217513</td>\n",
       "      <td>-2.303539</td>\n",
       "      <td>...</td>\n",
       "      <td>-0.152332</td>\n",
       "      <td>-0.512797</td>\n",
       "      <td>-0.236930</td>\n",
       "      <td>-0.372906</td>\n",
       "      <td>-0.328404</td>\n",
       "      <td>-0.297542</td>\n",
       "      <td>-0.061965</td>\n",
       "      <td>-0.059728</td>\n",
       "      <td>1.180000</td>\n",
       "      <td>0.000000</td>\n",
       "    </tr>\n",
       "    <tr>\n",
       "      <th>50%</th>\n",
       "      <td>81997.500000</td>\n",
       "      <td>-0.749997</td>\n",
       "      <td>0.943748</td>\n",
       "      <td>-1.415353</td>\n",
       "      <td>1.334079</td>\n",
       "      <td>-0.448188</td>\n",
       "      <td>-0.684996</td>\n",
       "      <td>-0.638610</td>\n",
       "      <td>0.147696</td>\n",
       "      <td>-0.681674</td>\n",
       "      <td>...</td>\n",
       "      <td>0.160359</td>\n",
       "      <td>0.045907</td>\n",
       "      <td>-0.038422</td>\n",
       "      <td>0.015046</td>\n",
       "      <td>0.061644</td>\n",
       "      <td>-0.048071</td>\n",
       "      <td>0.044064</td>\n",
       "      <td>0.035099</td>\n",
       "      <td>18.970000</td>\n",
       "      <td>0.500000</td>\n",
       "    </tr>\n",
       "    <tr>\n",
       "      <th>75%</th>\n",
       "      <td>133787.750000</td>\n",
       "      <td>1.098606</td>\n",
       "      <td>2.814266</td>\n",
       "      <td>0.310536</td>\n",
       "      <td>4.234137</td>\n",
       "      <td>0.444707</td>\n",
       "      <td>-0.000202</td>\n",
       "      <td>0.290030</td>\n",
       "      <td>0.853103</td>\n",
       "      <td>0.200703</td>\n",
       "      <td>...</td>\n",
       "      <td>0.670739</td>\n",
       "      <td>0.610616</td>\n",
       "      <td>0.192766</td>\n",
       "      <td>0.380346</td>\n",
       "      <td>0.399107</td>\n",
       "      <td>0.307777</td>\n",
       "      <td>0.437129</td>\n",
       "      <td>0.208837</td>\n",
       "      <td>99.990000</td>\n",
       "      <td>1.000000</td>\n",
       "    </tr>\n",
       "    <tr>\n",
       "      <th>max</th>\n",
       "      <td>172090.000000</td>\n",
       "      <td>2.422508</td>\n",
       "      <td>22.057729</td>\n",
       "      <td>2.950218</td>\n",
       "      <td>12.114672</td>\n",
       "      <td>11.095089</td>\n",
       "      <td>6.474115</td>\n",
       "      <td>9.667389</td>\n",
       "      <td>20.007208</td>\n",
       "      <td>4.373871</td>\n",
       "      <td>...</td>\n",
       "      <td>27.202839</td>\n",
       "      <td>8.361985</td>\n",
       "      <td>5.466230</td>\n",
       "      <td>1.210315</td>\n",
       "      <td>2.208209</td>\n",
       "      <td>2.745261</td>\n",
       "      <td>3.052358</td>\n",
       "      <td>1.779364</td>\n",
       "      <td>2125.870000</td>\n",
       "      <td>1.000000</td>\n",
       "    </tr>\n",
       "  </tbody>\n",
       "</table>\n",
       "<p>8 rows × 31 columns</p>\n",
       "</div>"
      ],
      "text/plain": [
       "                Time          V1          V2          V3          V4  \\\n",
       "count     984.000000  984.000000  984.000000  984.000000  984.000000   \n",
       "mean    87282.273374   -2.318158    1.838736   -3.524671    2.280420   \n",
       "std     48149.082335    5.538850    3.674185    6.227481    3.178558   \n",
       "min       218.000000  -30.552380  -14.077923  -31.103685   -3.847286   \n",
       "25%     45200.000000   -2.800824   -0.131103   -5.113334   -0.081218   \n",
       "50%     81997.500000   -0.749997    0.943748   -1.415353    1.334079   \n",
       "75%    133787.750000    1.098606    2.814266    0.310536    4.234137   \n",
       "max    172090.000000    2.422508   22.057729    2.950218   12.114672   \n",
       "\n",
       "               V5          V6          V7          V8          V9  ...  \\\n",
       "count  984.000000  984.000000  984.000000  984.000000  984.000000  ...   \n",
       "mean    -1.570961   -0.748190   -2.769700    0.299867   -1.259794  ...   \n",
       "std      4.212848    1.735162    5.862139    4.846831    2.342436  ...   \n",
       "min    -22.105532   -6.406267  -43.557242  -41.044261  -13.434066  ...   \n",
       "25%     -1.775001   -1.603779   -3.078361   -0.217513   -2.303539  ...   \n",
       "50%     -0.448188   -0.684996   -0.638610    0.147696   -0.681674  ...   \n",
       "75%      0.444707   -0.000202    0.290030    0.853103    0.200703  ...   \n",
       "max     11.095089    6.474115    9.667389   20.007208    4.373871  ...   \n",
       "\n",
       "              V21         V22         V23         V24         V25         V26  \\\n",
       "count  984.000000  984.000000  984.000000  984.000000  984.000000  984.000000   \n",
       "mean     0.374793    0.025718   -0.026426   -0.029002    0.031424    0.018643   \n",
       "std      2.774194    1.171379    1.165763    0.536223    0.672902    0.482414   \n",
       "min    -22.797604   -8.887017  -19.254328   -2.028024   -4.781606   -1.152671   \n",
       "25%     -0.152332   -0.512797   -0.236930   -0.372906   -0.328404   -0.297542   \n",
       "50%      0.160359    0.045907   -0.038422    0.015046    0.061644   -0.048071   \n",
       "75%      0.670739    0.610616    0.192766    0.380346    0.399107    0.307777   \n",
       "max     27.202839    8.361985    5.466230    1.210315    2.208209    2.745261   \n",
       "\n",
       "              V27         V28       Amount       Class  \n",
       "count  984.000000  984.000000   984.000000  984.000000  \n",
       "mean     0.081794    0.035793    99.818628    0.500000  \n",
       "std      1.021987    0.425622   213.358144    0.500254  \n",
       "min     -7.263482   -2.125563     0.000000    0.000000  \n",
       "25%     -0.061965   -0.059728     1.180000    0.000000  \n",
       "50%      0.044064    0.035099    18.970000    0.500000  \n",
       "75%      0.437129    0.208837    99.990000    1.000000  \n",
       "max      3.052358    1.779364  2125.870000    1.000000  \n",
       "\n",
       "[8 rows x 31 columns]"
      ]
     },
     "execution_count": 16,
     "metadata": {},
     "output_type": "execute_result"
    }
   ],
   "source": [
    "ndf.describe()"
   ]
  },
  {
   "cell_type": "markdown",
   "id": "c1f77178",
   "metadata": {},
   "source": [
    "# Train test Split"
   ]
  },
  {
   "cell_type": "code",
   "execution_count": 17,
   "id": "205b2353",
   "metadata": {},
   "outputs": [],
   "source": [
    "# Splitting features from target variable\n",
    "\n",
    "X = ndf.iloc[:,1:30]\n",
    "y = ndf.iloc[:,-1]"
   ]
  },
  {
   "cell_type": "code",
   "execution_count": 18,
   "id": "e81de436",
   "metadata": {},
   "outputs": [],
   "source": [
    "from sklearn.model_selection import train_test_split, cross_val_score\n",
    "from sklearn.metrics import classification_report, confusion_matrix, cohen_kappa_score"
   ]
  },
  {
   "cell_type": "code",
   "execution_count": 19,
   "id": "f79e94f0",
   "metadata": {},
   "outputs": [],
   "source": [
    "xtrain, xtest, ytrain, ytest = train_test_split(X,y, test_size=0.3, random_state=100)"
   ]
  },
  {
   "cell_type": "code",
   "execution_count": 20,
   "id": "c3ad8ba9",
   "metadata": {},
   "outputs": [
    {
     "name": "stdout",
     "output_type": "stream",
     "text": [
      "(688, 29) (296, 29) (688,) (296,)\n"
     ]
    }
   ],
   "source": [
    "print(xtrain.shape, xtest.shape, ytrain.shape, ytest.shape)"
   ]
  },
  {
   "cell_type": "markdown",
   "id": "57f4d662",
   "metadata": {},
   "source": [
    "# Logistic Regression"
   ]
  },
  {
   "cell_type": "code",
   "execution_count": 21,
   "id": "290a90f7",
   "metadata": {},
   "outputs": [],
   "source": [
    "# Initialising the model\n",
    "from sklearn.linear_model import LogisticRegression\n",
    "\n",
    "# Defining the model\n",
    "lr = LogisticRegression(random_state=100)\n",
    "\n",
    "# Fitting the model\n",
    "model_lr = lr.fit(xtrain,ytrain)"
   ]
  },
  {
   "cell_type": "code",
   "execution_count": 22,
   "id": "89dbe0e0",
   "metadata": {},
   "outputs": [
    {
     "name": "stdout",
     "output_type": "stream",
     "text": [
      "Logistic Regression for Train\n",
      "              precision    recall  f1-score   support\n",
      "\n",
      "           0       0.92      0.97      0.95       329\n",
      "           1       0.97      0.93      0.95       359\n",
      "\n",
      "    accuracy                           0.95       688\n",
      "   macro avg       0.95      0.95      0.95       688\n",
      "weighted avg       0.95      0.95      0.95       688\n",
      "\n",
      "Confusion Matrix \n",
      " [[320   9]\n",
      " [ 26 333]]\n",
      "\n",
      " Cohen Kappa Score \n",
      " 0.8982816011354612\n"
     ]
    }
   ],
   "source": [
    "# Printing model performance\n",
    "y_pred_train_lr = model_lr.predict(xtrain)\n",
    "\n",
    "print('Logistic Regression for Train')\n",
    "print(classification_report(ytrain, y_pred_train_lr))\n",
    "print('Confusion Matrix \\n',confusion_matrix(ytrain, y_pred_train_lr))\n",
    "print('\\n Cohen Kappa Score \\n',cohen_kappa_score(ytrain, y_pred_train_lr))"
   ]
  },
  {
   "cell_type": "code",
   "execution_count": 23,
   "id": "b8206871",
   "metadata": {},
   "outputs": [
    {
     "name": "stdout",
     "output_type": "stream",
     "text": [
      "Logistic Regression for Test data\n",
      "              precision    recall  f1-score   support\n",
      "\n",
      "           0       0.91      0.98      0.94       163\n",
      "           1       0.97      0.88      0.92       133\n",
      "\n",
      "    accuracy                           0.94       296\n",
      "   macro avg       0.94      0.93      0.93       296\n",
      "weighted avg       0.94      0.94      0.94       296\n",
      "\n",
      "Confusion Matrix \n",
      " [[160   3]\n",
      " [ 16 117]]\n",
      "\n",
      " Cohen Kappa Score \n",
      " 0.8691118972258425\n"
     ]
    }
   ],
   "source": [
    "# Printing model performance\n",
    "y_pred_test_lr = model_lr.predict(xtest)\n",
    "\n",
    "print('Logistic Regression for Test data')\n",
    "print(classification_report(ytest, y_pred_test_lr))\n",
    "print('Confusion Matrix \\n',confusion_matrix(ytest, y_pred_test_lr))\n",
    "print('\\n Cohen Kappa Score \\n',cohen_kappa_score(ytest, y_pred_test_lr))"
   ]
  },
  {
   "cell_type": "code",
   "execution_count": 24,
   "id": "708af196",
   "metadata": {},
   "outputs": [
    {
     "name": "stdout",
     "output_type": "stream",
     "text": [
      "Cross Validation Score for Logistic Regression 0.9420454545454546\n"
     ]
    }
   ],
   "source": [
    "print('Cross Validation Score for Logistic Regression', cross_val_score(lr, X, y, cv = 30, scoring='accuracy' ).mean())"
   ]
  },
  {
   "cell_type": "markdown",
   "id": "7c7ec774",
   "metadata": {},
   "source": [
    "* We can observe that the model has predicted 26 & 16 False Negative cases.\n",
    "* Our aim of the model is to attain as low of a False Negative identification as possible. \n",
    "* Meaning, we dont want the model to label a fraudulent transaction as a legit one.\n",
    "* We can also say that the current Lr model is Overfitting considering the drop in performance in the test data compared to the train.\n",
    "* We Created further ML models using Decission Tree, Random Forest, AdaBoost, Gradient Boost to reduce this errors and all of them were overfitting the train data acquiring an accuracy of 1 for train and of 0.9 for test data.\n",
    "* We shall create a Simple Neural Netword using Sklearn"
   ]
  },
  {
   "cell_type": "markdown",
   "id": "8b9525ba",
   "metadata": {},
   "source": [
    "# Multi Layer Perceptron"
   ]
  },
  {
   "cell_type": "code",
   "execution_count": 25,
   "id": "0fc68bac",
   "metadata": {},
   "outputs": [],
   "source": [
    "# Initialising the model\n",
    "from sklearn.neural_network import MLPClassifier\n",
    "\n",
    "# Defining the model\n",
    "mlp = MLPClassifier(hidden_layer_sizes=(10,10,10,10), random_state= 100)\n",
    "\n",
    "# Fitting the model\n",
    "model_mlp = mlp.fit(xtrain,ytrain)"
   ]
  },
  {
   "cell_type": "code",
   "execution_count": 26,
   "id": "1ddb7d05",
   "metadata": {},
   "outputs": [
    {
     "name": "stdout",
     "output_type": "stream",
     "text": [
      "Multi Layer Perceptron for Train data\n",
      "              precision    recall  f1-score   support\n",
      "\n",
      "           0       0.98      0.99      0.98       329\n",
      "           1       0.99      0.98      0.99       359\n",
      "\n",
      "    accuracy                           0.99       688\n",
      "   macro avg       0.99      0.99      0.99       688\n",
      "weighted avg       0.99      0.99      0.99       688\n",
      "\n",
      "Confusion Matrix \n",
      " [[327   2]\n",
      " [  8 351]]\n",
      "\n",
      " Cohen Kappa Score \n",
      " 0.9708970313279921\n"
     ]
    }
   ],
   "source": [
    "# Printing model performance\n",
    "y_pred_train_mlp = model_mlp.predict(xtrain)\n",
    "\n",
    "print('Multi Layer Perceptron for Train data')\n",
    "print(classification_report(ytrain, y_pred_train_mlp))\n",
    "print('Confusion Matrix \\n',confusion_matrix(ytrain, y_pred_train_mlp))\n",
    "print('\\n Cohen Kappa Score \\n',cohen_kappa_score(ytrain, y_pred_train_mlp))"
   ]
  },
  {
   "cell_type": "code",
   "execution_count": 27,
   "id": "e487229b",
   "metadata": {},
   "outputs": [
    {
     "name": "stdout",
     "output_type": "stream",
     "text": [
      "Logistic Regression for Test data\n",
      "              precision    recall  f1-score   support\n",
      "\n",
      "           0       0.91      0.98      0.94       163\n",
      "           1       0.97      0.89      0.93       133\n",
      "\n",
      "    accuracy                           0.94       296\n",
      "   macro avg       0.94      0.93      0.93       296\n",
      "weighted avg       0.94      0.94      0.94       296\n",
      "\n",
      "Confusion Matrix \n",
      " [[159   4]\n",
      " [ 15 118]]\n",
      "\n",
      " Cohen Kappa Score \n",
      " 0.8692944129404109\n"
     ]
    }
   ],
   "source": [
    "# Printing model performance\n",
    "y_pred_test_mlp = model_mlp.predict(xtest)\n",
    "\n",
    "print('Logistic Regression for Test data')\n",
    "print(classification_report(ytest, y_pred_test_mlp))\n",
    "print('Confusion Matrix \\n',confusion_matrix(ytest, y_pred_test_mlp))\n",
    "print('\\n Cohen Kappa Score \\n',cohen_kappa_score(ytest, y_pred_test_mlp))"
   ]
  },
  {
   "cell_type": "code",
   "execution_count": 28,
   "id": "13809298",
   "metadata": {},
   "outputs": [
    {
     "name": "stdout",
     "output_type": "stream",
     "text": [
      "Cross Validation Score for Multi Layer Perceptron 0.9349747474747475\n"
     ]
    }
   ],
   "source": [
    "print('Cross Validation Score for Multi Layer Perceptron', cross_val_score(mlp, X, y, cv = 30, scoring='accuracy' ).mean())"
   ]
  },
  {
   "cell_type": "markdown",
   "id": "c37d27d2",
   "metadata": {},
   "source": [
    "* In MLP, the model has predicted 8 & 15 False Negative cases.\n",
    "* But model is under performing for test data meaning model overfits the train data.\n",
    "* Comparing the Cross Validation scores, MLP performs slightly better.\n",
    "* We shall proceed with MLP for HyperParameter Tuning"
   ]
  },
  {
   "cell_type": "markdown",
   "id": "3e6ae158",
   "metadata": {},
   "source": [
    "# Grid Search"
   ]
  },
  {
   "cell_type": "code",
   "execution_count": 29,
   "id": "7f3004a8",
   "metadata": {},
   "outputs": [],
   "source": [
    "from sklearn.model_selection import GridSearchCV"
   ]
  },
  {
   "cell_type": "code",
   "execution_count": 30,
   "id": "cc795e1e",
   "metadata": {},
   "outputs": [],
   "source": [
    "# Define the hyperparameters to tune\n",
    "param_grid = {\n",
    "    'hidden_layer_sizes': [(50,), (100,), (50, 50)],\n",
    "    'activation': ['relu', 'tanh'],\n",
    "    'solver': ['adam', 'sgd'],\n",
    "    'learning_rate': ['constant', 'adaptive']\n",
    "}"
   ]
  },
  {
   "cell_type": "code",
   "execution_count": 31,
   "id": "69487d04",
   "metadata": {},
   "outputs": [],
   "source": [
    "# Create the GridSearchCV object\n",
    "gs = GridSearchCV(estimator=mlp, param_grid=param_grid, cv=5)"
   ]
  },
  {
   "cell_type": "code",
   "execution_count": 32,
   "id": "5551d49e",
   "metadata": {},
   "outputs": [
    {
     "data": {
      "text/html": [
       "<style>#sk-container-id-1 {color: black;}#sk-container-id-1 pre{padding: 0;}#sk-container-id-1 div.sk-toggleable {background-color: white;}#sk-container-id-1 label.sk-toggleable__label {cursor: pointer;display: block;width: 100%;margin-bottom: 0;padding: 0.3em;box-sizing: border-box;text-align: center;}#sk-container-id-1 label.sk-toggleable__label-arrow:before {content: \"▸\";float: left;margin-right: 0.25em;color: #696969;}#sk-container-id-1 label.sk-toggleable__label-arrow:hover:before {color: black;}#sk-container-id-1 div.sk-estimator:hover label.sk-toggleable__label-arrow:before {color: black;}#sk-container-id-1 div.sk-toggleable__content {max-height: 0;max-width: 0;overflow: hidden;text-align: left;background-color: #f0f8ff;}#sk-container-id-1 div.sk-toggleable__content pre {margin: 0.2em;color: black;border-radius: 0.25em;background-color: #f0f8ff;}#sk-container-id-1 input.sk-toggleable__control:checked~div.sk-toggleable__content {max-height: 200px;max-width: 100%;overflow: auto;}#sk-container-id-1 input.sk-toggleable__control:checked~label.sk-toggleable__label-arrow:before {content: \"▾\";}#sk-container-id-1 div.sk-estimator input.sk-toggleable__control:checked~label.sk-toggleable__label {background-color: #d4ebff;}#sk-container-id-1 div.sk-label input.sk-toggleable__control:checked~label.sk-toggleable__label {background-color: #d4ebff;}#sk-container-id-1 input.sk-hidden--visually {border: 0;clip: rect(1px 1px 1px 1px);clip: rect(1px, 1px, 1px, 1px);height: 1px;margin: -1px;overflow: hidden;padding: 0;position: absolute;width: 1px;}#sk-container-id-1 div.sk-estimator {font-family: monospace;background-color: #f0f8ff;border: 1px dotted black;border-radius: 0.25em;box-sizing: border-box;margin-bottom: 0.5em;}#sk-container-id-1 div.sk-estimator:hover {background-color: #d4ebff;}#sk-container-id-1 div.sk-parallel-item::after {content: \"\";width: 100%;border-bottom: 1px solid gray;flex-grow: 1;}#sk-container-id-1 div.sk-label:hover label.sk-toggleable__label {background-color: #d4ebff;}#sk-container-id-1 div.sk-serial::before {content: \"\";position: absolute;border-left: 1px solid gray;box-sizing: border-box;top: 0;bottom: 0;left: 50%;z-index: 0;}#sk-container-id-1 div.sk-serial {display: flex;flex-direction: column;align-items: center;background-color: white;padding-right: 0.2em;padding-left: 0.2em;position: relative;}#sk-container-id-1 div.sk-item {position: relative;z-index: 1;}#sk-container-id-1 div.sk-parallel {display: flex;align-items: stretch;justify-content: center;background-color: white;position: relative;}#sk-container-id-1 div.sk-item::before, #sk-container-id-1 div.sk-parallel-item::before {content: \"\";position: absolute;border-left: 1px solid gray;box-sizing: border-box;top: 0;bottom: 0;left: 50%;z-index: -1;}#sk-container-id-1 div.sk-parallel-item {display: flex;flex-direction: column;z-index: 1;position: relative;background-color: white;}#sk-container-id-1 div.sk-parallel-item:first-child::after {align-self: flex-end;width: 50%;}#sk-container-id-1 div.sk-parallel-item:last-child::after {align-self: flex-start;width: 50%;}#sk-container-id-1 div.sk-parallel-item:only-child::after {width: 0;}#sk-container-id-1 div.sk-dashed-wrapped {border: 1px dashed gray;margin: 0 0.4em 0.5em 0.4em;box-sizing: border-box;padding-bottom: 0.4em;background-color: white;}#sk-container-id-1 div.sk-label label {font-family: monospace;font-weight: bold;display: inline-block;line-height: 1.2em;}#sk-container-id-1 div.sk-label-container {text-align: center;}#sk-container-id-1 div.sk-container {/* jupyter's `normalize.less` sets `[hidden] { display: none; }` but bootstrap.min.css set `[hidden] { display: none !important; }` so we also need the `!important` here to be able to override the default hidden behavior on the sphinx rendered scikit-learn.org. See: https://github.com/scikit-learn/scikit-learn/issues/21755 */display: inline-block !important;position: relative;}#sk-container-id-1 div.sk-text-repr-fallback {display: none;}</style><div id=\"sk-container-id-1\" class=\"sk-top-container\"><div class=\"sk-text-repr-fallback\"><pre>GridSearchCV(cv=5,\n",
       "             estimator=MLPClassifier(hidden_layer_sizes=(10, 10, 10, 10),\n",
       "                                     random_state=100),\n",
       "             param_grid={&#x27;activation&#x27;: [&#x27;relu&#x27;, &#x27;tanh&#x27;],\n",
       "                         &#x27;hidden_layer_sizes&#x27;: [(50,), (100,), (50, 50)],\n",
       "                         &#x27;learning_rate&#x27;: [&#x27;constant&#x27;, &#x27;adaptive&#x27;],\n",
       "                         &#x27;solver&#x27;: [&#x27;adam&#x27;, &#x27;sgd&#x27;]})</pre><b>In a Jupyter environment, please rerun this cell to show the HTML representation or trust the notebook. <br />On GitHub, the HTML representation is unable to render, please try loading this page with nbviewer.org.</b></div><div class=\"sk-container\" hidden><div class=\"sk-item sk-dashed-wrapped\"><div class=\"sk-label-container\"><div class=\"sk-label sk-toggleable\"><input class=\"sk-toggleable__control sk-hidden--visually\" id=\"sk-estimator-id-1\" type=\"checkbox\" ><label for=\"sk-estimator-id-1\" class=\"sk-toggleable__label sk-toggleable__label-arrow\">GridSearchCV</label><div class=\"sk-toggleable__content\"><pre>GridSearchCV(cv=5,\n",
       "             estimator=MLPClassifier(hidden_layer_sizes=(10, 10, 10, 10),\n",
       "                                     random_state=100),\n",
       "             param_grid={&#x27;activation&#x27;: [&#x27;relu&#x27;, &#x27;tanh&#x27;],\n",
       "                         &#x27;hidden_layer_sizes&#x27;: [(50,), (100,), (50, 50)],\n",
       "                         &#x27;learning_rate&#x27;: [&#x27;constant&#x27;, &#x27;adaptive&#x27;],\n",
       "                         &#x27;solver&#x27;: [&#x27;adam&#x27;, &#x27;sgd&#x27;]})</pre></div></div></div><div class=\"sk-parallel\"><div class=\"sk-parallel-item\"><div class=\"sk-item\"><div class=\"sk-label-container\"><div class=\"sk-label sk-toggleable\"><input class=\"sk-toggleable__control sk-hidden--visually\" id=\"sk-estimator-id-2\" type=\"checkbox\" ><label for=\"sk-estimator-id-2\" class=\"sk-toggleable__label sk-toggleable__label-arrow\">estimator: MLPClassifier</label><div class=\"sk-toggleable__content\"><pre>MLPClassifier(hidden_layer_sizes=(10, 10, 10, 10), random_state=100)</pre></div></div></div><div class=\"sk-serial\"><div class=\"sk-item\"><div class=\"sk-estimator sk-toggleable\"><input class=\"sk-toggleable__control sk-hidden--visually\" id=\"sk-estimator-id-3\" type=\"checkbox\" ><label for=\"sk-estimator-id-3\" class=\"sk-toggleable__label sk-toggleable__label-arrow\">MLPClassifier</label><div class=\"sk-toggleable__content\"><pre>MLPClassifier(hidden_layer_sizes=(10, 10, 10, 10), random_state=100)</pre></div></div></div></div></div></div></div></div></div></div>"
      ],
      "text/plain": [
       "GridSearchCV(cv=5,\n",
       "             estimator=MLPClassifier(hidden_layer_sizes=(10, 10, 10, 10),\n",
       "                                     random_state=100),\n",
       "             param_grid={'activation': ['relu', 'tanh'],\n",
       "                         'hidden_layer_sizes': [(50,), (100,), (50, 50)],\n",
       "                         'learning_rate': ['constant', 'adaptive'],\n",
       "                         'solver': ['adam', 'sgd']})"
      ]
     },
     "execution_count": 32,
     "metadata": {},
     "output_type": "execute_result"
    }
   ],
   "source": [
    "# Fit the model to the data\n",
    "gs.fit(X, y)"
   ]
  },
  {
   "cell_type": "code",
   "execution_count": 33,
   "id": "df3c09e4",
   "metadata": {},
   "outputs": [
    {
     "name": "stdout",
     "output_type": "stream",
     "text": [
      "Best Hyperparameters:  {'activation': 'relu', 'hidden_layer_sizes': (50, 50), 'learning_rate': 'adaptive', 'solver': 'sgd'}\n",
      "Best Accuracy Score:  0.9318968196415623\n"
     ]
    }
   ],
   "source": [
    "# Print the best hyperparameters and accuracy score\n",
    "print(\"Best Hyperparameters: \", gs.best_params_)\n",
    "print(\"Best Accuracy Score: \", gs.best_score_)"
   ]
  },
  {
   "cell_type": "markdown",
   "id": "26117c14",
   "metadata": {},
   "source": [
    "# Hyper Parameter tuned MLP"
   ]
  },
  {
   "cell_type": "code",
   "execution_count": 34,
   "id": "58e2e345",
   "metadata": {},
   "outputs": [],
   "source": [
    "# Defining the model\n",
    "mlpg = MLPClassifier(activation='relu', hidden_layer_sizes = (50,), learning_rate='constant', solver= 'adam',random_state= 100)\n",
    "\n",
    "# Fitting the model\n",
    "model_mlpg = mlpg.fit(xtrain,ytrain)"
   ]
  },
  {
   "cell_type": "code",
   "execution_count": 35,
   "id": "8f825881",
   "metadata": {},
   "outputs": [
    {
     "name": "stdout",
     "output_type": "stream",
     "text": [
      "Multi Layer Perceptron for Train data\n",
      "              precision    recall  f1-score   support\n",
      "\n",
      "           0       0.96      0.99      0.98       329\n",
      "           1       0.99      0.97      0.98       359\n",
      "\n",
      "    accuracy                           0.98       688\n",
      "   macro avg       0.98      0.98      0.98       688\n",
      "weighted avg       0.98      0.98      0.98       688\n",
      "\n",
      "Confusion Matrix \n",
      " [[326   3]\n",
      " [ 12 347]]\n",
      "\n",
      " Cohen Kappa Score \n",
      " 0.9563621602422069\n"
     ]
    }
   ],
   "source": [
    "# Printing model performance\n",
    "y_pred_train_mlpg = model_mlpg.predict(xtrain)\n",
    "\n",
    "print('Multi Layer Perceptron for Train data')\n",
    "print(classification_report(ytrain, y_pred_train_mlpg))\n",
    "print('Confusion Matrix \\n',confusion_matrix(ytrain, y_pred_train_mlpg))\n",
    "print('\\n Cohen Kappa Score \\n',cohen_kappa_score(ytrain, y_pred_train_mlpg))"
   ]
  },
  {
   "cell_type": "code",
   "execution_count": 36,
   "id": "c8c33060",
   "metadata": {},
   "outputs": [
    {
     "name": "stdout",
     "output_type": "stream",
     "text": [
      "Logistic Regression for Test data\n",
      "              precision    recall  f1-score   support\n",
      "\n",
      "           0       0.91      0.98      0.94       163\n",
      "           1       0.97      0.88      0.92       133\n",
      "\n",
      "    accuracy                           0.93       296\n",
      "   macro avg       0.94      0.93      0.93       296\n",
      "weighted avg       0.93      0.93      0.93       296\n",
      "\n",
      "Confusion Matrix \n",
      " [[159   4]\n",
      " [ 16 117]]\n",
      "\n",
      " Cohen Kappa Score \n",
      " 0.8623191776361692\n"
     ]
    }
   ],
   "source": [
    "# Printing model performance\n",
    "y_pred_test_mlpg = model_mlpg.predict(xtest)\n",
    "\n",
    "print('Logistic Regression for Test data')\n",
    "print(classification_report(ytest, y_pred_test_mlpg))\n",
    "print('Confusion Matrix \\n',confusion_matrix(ytest, y_pred_test_mlpg))\n",
    "print('\\n Cohen Kappa Score \\n',cohen_kappa_score(ytest, y_pred_test_mlpg))"
   ]
  },
  {
   "cell_type": "code",
   "execution_count": 37,
   "id": "4ea09574",
   "metadata": {},
   "outputs": [
    {
     "name": "stdout",
     "output_type": "stream",
     "text": [
      "Cross Validation Score for Hyper Parameter Tuned Multi Layer Perceptron 0.9421717171717172\n"
     ]
    }
   ],
   "source": [
    "print('Cross Validation Score for Hyper Parameter Tuned Multi Layer Perceptron', \n",
    "      cross_val_score(mlpg, X, y, cv = 30, scoring='accuracy' ).mean())"
   ]
  },
  {
   "cell_type": "markdown",
   "id": "8382f132",
   "metadata": {},
   "source": [
    "* In this HP MLP, the model has predicted 12 & 16 False Negative cases.\n",
    "* In all the above cases the model is over fitting.\n",
    "* One of the major reasons could be the low sample size of 984.\n",
    "* We cannot perform Feature Selection or Feature Engineering due having to less than sufficient knowledge of the features.\n",
    "* We shall proceed to develop model using Tensorflow with the original dataframe.\n",
    "* Further which we shall try Neural Network model with Cost Sensitive Neural Network."
   ]
  },
  {
   "cell_type": "markdown",
   "id": "e16e1bd5",
   "metadata": {},
   "source": [
    "# Technique 2\n",
    "    #  Cost Sensitive Neural Network"
   ]
  },
  {
   "cell_type": "markdown",
   "id": "05546cd7",
   "metadata": {},
   "source": [
    "# Train test split"
   ]
  },
  {
   "cell_type": "code",
   "execution_count": 38,
   "id": "46ba81bf",
   "metadata": {},
   "outputs": [],
   "source": [
    "# Splitting Features from target\n",
    "X = df.iloc[:,1:30]\n",
    "y = df.iloc[:,-1]"
   ]
  },
  {
   "cell_type": "code",
   "execution_count": 39,
   "id": "0f0f6cf0",
   "metadata": {},
   "outputs": [],
   "source": [
    "# Train test split\n",
    "xtrain, xtest, ytrain, ytest = train_test_split(X, y, test_size=0.30, random_state=42)"
   ]
  },
  {
   "cell_type": "code",
   "execution_count": 40,
   "id": "51c14af4",
   "metadata": {},
   "outputs": [
    {
     "name": "stdout",
     "output_type": "stream",
     "text": [
      "(199364, 29) (85443, 29) (199364,) (85443,)\n"
     ]
    }
   ],
   "source": [
    "print(xtrain.shape, xtest.shape, ytrain.shape, ytest.shape)"
   ]
  },
  {
   "cell_type": "code",
   "execution_count": 41,
   "id": "7bf230ba",
   "metadata": {},
   "outputs": [
    {
     "data": {
      "text/plain": [
       "Class\n",
       "0    199008\n",
       "1       356\n",
       "Name: count, dtype: int64"
      ]
     },
     "execution_count": 41,
     "metadata": {},
     "output_type": "execute_result"
    }
   ],
   "source": [
    "ytrain.value_counts()"
   ]
  },
  {
   "cell_type": "code",
   "execution_count": 42,
   "id": "6b537f1b",
   "metadata": {},
   "outputs": [
    {
     "data": {
      "text/plain": [
       "559.0112359550562"
      ]
     },
     "execution_count": 42,
     "metadata": {},
     "output_type": "execute_result"
    }
   ],
   "source": [
    "199008/356"
   ]
  },
  {
   "cell_type": "markdown",
   "id": "1f7c1d89",
   "metadata": {},
   "source": [
    "* This means, for ever Class 1, there are 599 Class 0"
   ]
  },
  {
   "cell_type": "markdown",
   "id": "7e52be7b",
   "metadata": {},
   "source": [
    "# Tensorflow"
   ]
  },
  {
   "cell_type": "code",
   "execution_count": 43,
   "id": "63ac5fc3",
   "metadata": {},
   "outputs": [],
   "source": [
    "import tensorflow"
   ]
  },
  {
   "cell_type": "code",
   "execution_count": 44,
   "id": "1592645f",
   "metadata": {},
   "outputs": [],
   "source": [
    "# Initialising the model\n",
    "from tensorflow.keras.layers import Dense\n",
    "from tensorflow.keras.models import Sequential"
   ]
  },
  {
   "cell_type": "code",
   "execution_count": 45,
   "id": "4a0ff3b9",
   "metadata": {},
   "outputs": [
    {
     "data": {
      "text/plain": [
       "29"
      ]
     },
     "execution_count": 45,
     "metadata": {},
     "output_type": "execute_result"
    }
   ],
   "source": [
    "n_inputs = len(X.columns)\n",
    "n_inputs"
   ]
  },
  {
   "cell_type": "code",
   "execution_count": 46,
   "id": "a59e3bdd",
   "metadata": {},
   "outputs": [
    {
     "name": "stdout",
     "output_type": "stream",
     "text": [
      "Epoch 1/10\n",
      "6231/6231 [==============================] - 7s 1ms/step - loss: 0.0196\n",
      "Epoch 2/10\n",
      "6231/6231 [==============================] - 7s 1ms/step - loss: 0.0111\n",
      "Epoch 3/10\n",
      "6231/6231 [==============================] - 7s 1ms/step - loss: 0.0114\n",
      "Epoch 4/10\n",
      "6231/6231 [==============================] - 7s 1ms/step - loss: 0.0097\n",
      "Epoch 5/10\n",
      "6231/6231 [==============================] - 7s 1ms/step - loss: 0.0108\n",
      "Epoch 6/10\n",
      "6231/6231 [==============================] - 7s 1ms/step - loss: 0.0097\n",
      "Epoch 7/10\n",
      "6231/6231 [==============================] - 7s 1ms/step - loss: 0.0087\n",
      "Epoch 8/10\n",
      "6231/6231 [==============================] - 7s 1ms/step - loss: 0.0092\n",
      "Epoch 9/10\n",
      "6231/6231 [==============================] - 7s 1ms/step - loss: 0.0100\n",
      "Epoch 10/10\n",
      "6231/6231 [==============================] - 7s 1ms/step - loss: 0.0097\n"
     ]
    },
    {
     "data": {
      "text/plain": [
       "<keras.src.callbacks.History at 0x1dfc1a43a90>"
      ]
     },
     "execution_count": 46,
     "metadata": {},
     "output_type": "execute_result"
    }
   ],
   "source": [
    "# Define model\n",
    "sq = Sequential()\n",
    "\n",
    "# Define first hidden layer and visible layer\n",
    "# kernel_initializer - Weight Initializer\n",
    "sq.add(Dense(50, input_dim = n_inputs, activation = 'relu', kernel_initializer= 'he_uniform'))\n",
    "\n",
    "# Define output layer\n",
    "sq.add(Dense(1, activation = 'sigmoid'))\n",
    "\n",
    "# Define losss and optimizer\n",
    "# binary_crossentropy - Due to binary classification (0 & 1). If multi class, use Multi or sparse\n",
    "sq.compile(loss='binary_crossentropy', optimizer = 'adam')\n",
    "sq.fit(xtrain,ytrain, epochs=10)"
   ]
  },
  {
   "cell_type": "code",
   "execution_count": 47,
   "id": "7218b4f2",
   "metadata": {},
   "outputs": [],
   "source": [
    "# Importing scoring metrics\n",
    "from sklearn.metrics import roc_auc_score"
   ]
  },
  {
   "cell_type": "code",
   "execution_count": 48,
   "id": "20130c2c",
   "metadata": {},
   "outputs": [
    {
     "name": "stdout",
     "output_type": "stream",
     "text": [
      "6231/6231 [==============================] - 5s 854us/step\n",
      "Roc_auc_score for Train 0.9329610048424455\n"
     ]
    }
   ],
   "source": [
    "# Printing model performance\n",
    "y_pred_train_sq = sq.predict(xtrain)\n",
    "\n",
    "print('Roc_auc_score for Train', roc_auc_score(ytrain,y_pred_train_sq))"
   ]
  },
  {
   "cell_type": "code",
   "execution_count": 49,
   "id": "b588af2f",
   "metadata": {},
   "outputs": [
    {
     "name": "stdout",
     "output_type": "stream",
     "text": [
      "2671/2671 [==============================] - 2s 850us/step\n",
      "Roc_auc_score for Train 0.9338001708707443\n"
     ]
    }
   ],
   "source": [
    "# Printing model performance\n",
    "y_pred_train_sq = sq.predict(xtest)\n",
    "\n",
    "print('Roc_auc_score for Train', roc_auc_score(ytest,y_pred_train_sq))"
   ]
  },
  {
   "cell_type": "markdown",
   "id": "e2ca5ff3",
   "metadata": {},
   "source": [
    "* The roc auc scores are very similar for train and test data, meaning the model is performing well.\n",
    "* We shall now proceed with the same model but we shall add weights to the classes as necessary."
   ]
  },
  {
   "cell_type": "markdown",
   "id": "c1a44750",
   "metadata": {},
   "source": [
    "# Weighted Neural Networks"
   ]
  },
  {
   "cell_type": "code",
   "execution_count": 50,
   "id": "d333ba4a",
   "metadata": {},
   "outputs": [
    {
     "data": {
      "text/plain": [
       "Class\n",
       "0    199008\n",
       "1       356\n",
       "Name: count, dtype: int64"
      ]
     },
     "execution_count": 50,
     "metadata": {},
     "output_type": "execute_result"
    }
   ],
   "source": [
    "ytrain.value_counts()"
   ]
  },
  {
   "cell_type": "code",
   "execution_count": 51,
   "id": "afdb690f",
   "metadata": {},
   "outputs": [
    {
     "data": {
      "text/plain": [
       "559.0112359550562"
      ]
     },
     "execution_count": 51,
     "metadata": {},
     "output_type": "execute_result"
    }
   ],
   "source": [
    "199008/356"
   ]
  },
  {
   "cell_type": "code",
   "execution_count": 52,
   "id": "f3767dac",
   "metadata": {},
   "outputs": [],
   "source": [
    "# Defining the weights\n",
    "assigned_weights = {0:1, 1:599}"
   ]
  },
  {
   "cell_type": "code",
   "execution_count": 53,
   "id": "8be3345d",
   "metadata": {},
   "outputs": [
    {
     "name": "stdout",
     "output_type": "stream",
     "text": [
      "Epoch 1/10\n",
      "6231/6231 [==============================] - 8s 1ms/step - loss: 8.3663\n",
      "Epoch 2/10\n",
      "6231/6231 [==============================] - 8s 1ms/step - loss: 7.6572\n",
      "Epoch 3/10\n",
      "6231/6231 [==============================] - 7s 1ms/step - loss: 7.1070\n",
      "Epoch 4/10\n",
      "6231/6231 [==============================] - 7s 1ms/step - loss: 8.1154\n",
      "Epoch 5/10\n",
      "6231/6231 [==============================] - 7s 1ms/step - loss: 8.7240\n",
      "Epoch 6/10\n",
      "6231/6231 [==============================] - 7s 1ms/step - loss: 9.4859\n",
      "Epoch 7/10\n",
      "6231/6231 [==============================] - 7s 1ms/step - loss: 9.6228\n",
      "Epoch 8/10\n",
      "6231/6231 [==============================] - 7s 1ms/step - loss: 11.2789\n",
      "Epoch 9/10\n",
      "6231/6231 [==============================] - 7s 1ms/step - loss: 6.7968\n",
      "Epoch 10/10\n",
      "6231/6231 [==============================] - 8s 1ms/step - loss: 12.8705\n"
     ]
    },
    {
     "data": {
      "text/plain": [
       "<keras.src.callbacks.History at 0x1dfcbca00d0>"
      ]
     },
     "execution_count": 53,
     "metadata": {},
     "output_type": "execute_result"
    }
   ],
   "source": [
    "# Define model\n",
    "sqw = Sequential()\n",
    "\n",
    "# Define first hidden layer and visible layer\n",
    "sqw.add(Dense(150, input_dim = n_inputs, activation = 'relu', kernel_initializer= 'he_uniform'))\n",
    "\n",
    "# Define output layer\n",
    "sqw.add(Dense(1, activation = 'sigmoid'))\n",
    "\n",
    "# Define loss and optimizer and assign weights\n",
    "sqw.compile(loss='binary_crossentropy', optimizer = 'adam')\n",
    "sqw.fit(xtrain,ytrain, class_weight = assigned_weights, epochs = 10)"
   ]
  },
  {
   "cell_type": "code",
   "execution_count": 54,
   "id": "d711119f",
   "metadata": {},
   "outputs": [
    {
     "name": "stdout",
     "output_type": "stream",
     "text": [
      "6231/6231 [==============================] - 6s 914us/step\n",
      "Roc_auc_score for Train 0.9675762427708852\n"
     ]
    }
   ],
   "source": [
    "# Printing model performance\n",
    "y_pred_train_sqw = sqw.predict(xtrain)\n",
    "\n",
    "print('Roc_auc_score for Train',roc_auc_score(ytrain,y_pred_train_sqw))"
   ]
  },
  {
   "cell_type": "code",
   "execution_count": 55,
   "id": "d47e4bb7",
   "metadata": {},
   "outputs": [
    {
     "name": "stdout",
     "output_type": "stream",
     "text": [
      "2671/2671 [==============================] - 2s 872us/step\n",
      "Roc_auc_score for Test 0.9640500417523146\n"
     ]
    }
   ],
   "source": [
    "# Printing model performance\n",
    "y_pred_test_sqw = sqw.predict(xtest)\n",
    "\n",
    "print('Roc_auc_score for Test',roc_auc_score(ytest,y_pred_test_sqw))"
   ]
  },
  {
   "cell_type": "markdown",
   "id": "7b3f74be",
   "metadata": {},
   "source": [
    "* We have achieved a good model with very similar performance in train and test data with the help of Weighted Neural Network.\n",
    "* This will be our final model."
   ]
  },
  {
   "cell_type": "markdown",
   "id": "b453e2ce",
   "metadata": {},
   "source": [
    "# Trail tests"
   ]
  },
  {
   "cell_type": "code",
   "execution_count": 95,
   "id": "191d0f41",
   "metadata": {},
   "outputs": [
    {
     "data": {
      "text/plain": [
       "array([-1.64500860e+00, -2.09079913e+00,  1.59256684e+00, -1.38885259e+00,\n",
       "        1.73289919e+00, -1.63105878e+00, -9.22859376e-01,  1.38144495e-02,\n",
       "        1.76077706e+00, -1.27016428e+00, -1.40105324e+00,  3.56018140e-01,\n",
       "        1.91579696e-01, -4.73274886e-01,  7.07895259e-01, -1.79083043e-01,\n",
       "       -8.16905117e-01,  6.31246543e-01,  3.09446502e-01,  5.64245803e-01,\n",
       "        2.48155008e-01,  4.15496484e-01,  2.93293937e-01, -4.63425038e-01,\n",
       "       -4.05175360e-01, -9.24103280e-01,  6.58569044e-03,  1.86830113e-02,\n",
       "        4.66800000e+01])"
      ]
     },
     "execution_count": 95,
     "metadata": {},
     "output_type": "execute_result"
    }
   ],
   "source": [
    "df.iloc[542,1:30].values"
   ]
  },
  {
   "cell_type": "code",
   "execution_count": 106,
   "id": "ea1b345e",
   "metadata": {},
   "outputs": [
    {
     "name": "stdout",
     "output_type": "stream",
     "text": [
      "1/1 [==============================] - 0s 44ms/step\n"
     ]
    },
    {
     "data": {
      "text/plain": [
       "array([[1]])"
      ]
     },
     "execution_count": 106,
     "metadata": {},
     "output_type": "execute_result"
    }
   ],
   "source": [
    "# Trail prediction\n",
    "prediction = sqw.predict([[-2.31222654,  1.95199201, -1.60985073,  3.99790559, -0.52218786,\n",
    "       -1.42654532, -2.53738731,  1.39165725, -2.77008928, -2.77227214,\n",
    "        3.20203321, -2.89990739, -0.59522188, -4.28925378,  0.38972412,\n",
    "       -1.14074718, -2.83005567, -0.01682247,  0.41695571,  0.12691056,\n",
    "        0.51723237, -0.03504937, -0.46521108,  0.3201982 ,  0.04451917,\n",
    "        0.1778398 ,  0.261145  , -0.14327587,  0.        ]])\n",
    "\n",
    "predicted_labels = (prediction > 0.5).astype(int)\n",
    "predicted_labels"
   ]
  },
  {
   "cell_type": "code",
   "execution_count": 107,
   "id": "1aa9cc39",
   "metadata": {},
   "outputs": [
    {
     "name": "stdout",
     "output_type": "stream",
     "text": [
      "1/1 [==============================] - 0s 41ms/step\n"
     ]
    },
    {
     "data": {
      "text/plain": [
       "array([[0]])"
      ]
     },
     "execution_count": 107,
     "metadata": {},
     "output_type": "execute_result"
    }
   ],
   "source": [
    "# Trail prediction\n",
    "prediction = sqw.predict([[-1.64500860e+00, -2.09079913e+00,  1.59256684e+00, -1.38885259e+00,\n",
    "        1.73289919e+00, -1.63105878e+00, -9.22859376e-01,  1.38144495e-02,\n",
    "        1.76077706e+00, -1.27016428e+00, -1.40105324e+00,  3.56018140e-01,\n",
    "        1.91579696e-01, -4.73274886e-01,  7.07895259e-01, -1.79083043e-01,\n",
    "       -8.16905117e-01,  6.31246543e-01,  3.09446502e-01,  5.64245803e-01,\n",
    "        2.48155008e-01,  4.15496484e-01,  2.93293937e-01, -4.63425038e-01,\n",
    "       -4.05175360e-01, -9.24103280e-01,  6.58569044e-03,  1.86830113e-02,\n",
    "        4.66800000e+01]])\n",
    "\n",
    "\n",
    "predicted_labels = (prediction > 0.5).astype(int)\n",
    "predicted_labels"
   ]
  },
  {
   "cell_type": "markdown",
   "id": "f5d51265",
   "metadata": {},
   "source": [
    "# Saving the model using Pickle"
   ]
  },
  {
   "cell_type": "code",
   "execution_count": 100,
   "id": "e95df2a4",
   "metadata": {},
   "outputs": [],
   "source": [
    "import pickle"
   ]
  },
  {
   "cell_type": "code",
   "execution_count": 103,
   "id": "53781be9",
   "metadata": {},
   "outputs": [],
   "source": [
    "# Saving the model\n",
    "# wb = Write binary\n",
    "\n",
    "with open('sqw.pkl', 'wb') as file:\n",
    "    pickle.dump(sqw, file)"
   ]
  },
  {
   "cell_type": "markdown",
   "id": "081d3896",
   "metadata": {},
   "source": [
    "# Deploy the model as streamlit file"
   ]
  },
  {
   "cell_type": "code",
   "execution_count": 3,
   "id": "3675a562",
   "metadata": {},
   "outputs": [
    {
     "name": "stdout",
     "output_type": "stream",
     "text": [
      "Overwriting fraud_app.py\n"
     ]
    }
   ],
   "source": [
    "%%writefile fraud_app.py\n",
    "\n",
    "import streamlit as st\n",
    "st.title('Fraud Detection App')\n",
    "st.subheader('Is this a Fraudulent transaction')\n",
    "import pandas as pd\n",
    "import pickle\n",
    "from sklearn.preprocessing import StandardScaler\n",
    "\n",
    "\n",
    "# Step1: Load the pickled model\n",
    "\n",
    "model = open('sqw.pkl','rb') # read binary\n",
    "clf = pickle.load(model)\n",
    "model.close()\n",
    "\n",
    "# Step2: Get input from front end user\n",
    "\n",
    "# Create input fields for features\n",
    "feature1 = st.number_input(\"V1\", value=0.0)\n",
    "feature2 = st.number_input(\"V2\", value=0.0)\n",
    "feature3 = st.number_input(\"V3\", value=0.0)\n",
    "feature4 = st.number_input(\"V4\", value=0.0)\n",
    "feature5 = st.number_input(\"V5\", value=0.0)\n",
    "feature6 = st.number_input(\"V6\", value=0.0)\n",
    "feature7 = st.number_input(\"V7\", value=0.0)\n",
    "feature8 = st.number_input(\"V8\", value=0.0)\n",
    "feature9 = st.number_input(\"V9\", value=0.0)\n",
    "feature10 = st.number_input(\"V10\", value=0.0)\n",
    "feature11 = st.number_input(\"V11\", value=0.0)\n",
    "feature12 = st.number_input(\"V12\", value=0.0)\n",
    "feature13 = st.number_input(\"V13\", value=0.0)\n",
    "feature14 = st.number_input(\"V14\", value=0.0)\n",
    "feature15 = st.number_input(\"V15\", value=0.0)\n",
    "feature16 = st.number_input(\"V16\", value=0.0)\n",
    "feature17 = st.number_input(\"V17\", value=0.0)\n",
    "feature18 = st.number_input(\"V18\", value=0.0)\n",
    "feature19 = st.number_input(\"V19\", value=0.0)\n",
    "feature20 = st.number_input(\"V20\", value=0.0)\n",
    "feature21 = st.number_input(\"V21\", value=0.0)\n",
    "feature22 = st.number_input(\"V22\", value=0.0)\n",
    "feature23 = st.number_input(\"V23\", value=0.0)\n",
    "feature24 = st.number_input(\"V24\", value=0.0)\n",
    "feature25 = st.number_input(\"V25\", value=0.0)\n",
    "feature26 = st.number_input(\"V26\", value=0.0)\n",
    "feature27 = st.number_input(\"V27\", value=0.0)\n",
    "feature28 = st.number_input(\"V28\", value=0.0)\n",
    "feature29 = st.number_input(\"V29\", value=0.0)\n",
    "\n",
    "# Step3: Collect the front end user input as model input data\n",
    "\n",
    "data = {'V1':feature1, \n",
    "        'V2':feature2,\n",
    "        'V3':feature3,\n",
    "        'V4':feature4,\n",
    "        'V5':feature5,\n",
    "        'V6':feature6,\n",
    "        'V7':feature7,\n",
    "        'V8':feature8,\n",
    "        'V9':feature9,\n",
    "        'V10':feature10,\n",
    "        'V11':feature11,\n",
    "        'V12':feature12,\n",
    "        'V13':feature13,\n",
    "        'V14':feature14,\n",
    "        'V15':feature15,\n",
    "        'V16':feature16,\n",
    "        'V17':feature17,\n",
    "        'V18':feature18,\n",
    "        'V19':feature19,\n",
    "        'V20':feature20,\n",
    "        'V21':feature21,\n",
    "        'V22':feature22,\n",
    "        'V23':feature23,\n",
    "        'V24':feature24,\n",
    "        'V25':feature25,\n",
    "        'V26':feature26,\n",
    "        'V27':feature27,\n",
    "        'V28':feature28,\n",
    "        'V29':feature29,\n",
    "       }\n",
    "input_data = pd.DataFrame([data])\n",
    "\n",
    "# Step4: get the predictions and print the result\n",
    "\n",
    "preds=clf.predict(input_data)[0]\n",
    "if st.button('Predict'):\n",
    "    if preds==1:\n",
    "        st.error('Fraud')\n",
    "    if preds<1:\n",
    "        st.error('Legit')"
   ]
  },
  {
   "cell_type": "code",
   "execution_count": null,
   "id": "a584ac3a",
   "metadata": {},
   "outputs": [],
   "source": []
  },
  {
   "cell_type": "code",
   "execution_count": null,
   "id": "b62fdeef",
   "metadata": {},
   "outputs": [],
   "source": []
  },
  {
   "cell_type": "code",
   "execution_count": null,
   "id": "7806da9e",
   "metadata": {},
   "outputs": [],
   "source": []
  }
 ],
 "metadata": {
  "kernelspec": {
   "display_name": "Python 3 (ipykernel)",
   "language": "python",
   "name": "python3"
  },
  "language_info": {
   "codemirror_mode": {
    "name": "ipython",
    "version": 3
   },
   "file_extension": ".py",
   "mimetype": "text/x-python",
   "name": "python",
   "nbconvert_exporter": "python",
   "pygments_lexer": "ipython3",
   "version": "3.10.9"
  }
 },
 "nbformat": 4,
 "nbformat_minor": 5
}
